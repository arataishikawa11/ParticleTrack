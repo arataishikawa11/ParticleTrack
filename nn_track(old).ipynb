{
 "cells": [
  {
   "cell_type": "markdown",
   "id": "99fde37a",
   "metadata": {},
   "source": [
    "# Nearest neighbors implementation of particle tracking"
   ]
  },
  {
   "cell_type": "code",
   "execution_count": 29,
   "id": "09206bf3",
   "metadata": {},
   "outputs": [],
   "source": [
    "import matplotlib as mpl\n",
    "import matplotlib.pyplot as plt\n",
    "import numpy as np\n",
    "import pandas as pd\n",
    "from scipy.spatial import distance_matrix"
   ]
  },
  {
   "cell_type": "code",
   "execution_count": 30,
   "id": "3c6cfddf",
   "metadata": {},
   "outputs": [],
   "source": [
    "# # Take in user input for the first set of coordinates (2D)\n",
    "# coords1 = input(\"Numbers separated by commas ex: x, y\") # Type in coordinates for particle 1\n",
    "# coords2 = input(\"Numbers separated by commas ex: x, y\") # Type in coordinates for particle 1\n",
    "# coords3 = input(\"Numbers separated by commas ex: x, y\") # Type in coordinates for particle 1\n",
    "# coords1, coords2, coords3 = np.array(coords1), np.array(coords2), np.array(coords3)\n",
    "# print(coords1, coords2, coords3)\n",
    "\n",
    "\n",
    "# ex = np.array([1,2,3]) # Example coordinates\n",
    "# print(ex)\n",
    "\n",
    "# assert isinstance(coords1, np.ndarray), \"Object is not a NumPy array\""
   ]
  },
  {
   "cell_type": "markdown",
   "id": "55fcefc0",
   "metadata": {},
   "source": [
    "### Set particles, and positions"
   ]
  },
  {
   "cell_type": "code",
   "execution_count": null,
   "id": "02fbd38b",
   "metadata": {},
   "outputs": [],
   "source": [
    "# Generate synthetic data to test on.\n",
    "np.random.seed(1111)\n",
    "n_particles = 3\n",
    "positions_t = np.random.rand(n_particles, 2) * 100 # Frame T, n_particle rows and 2 columns (x,y)\n",
    "\n",
    "# Attach ID's to a dictionary that tracks particles across frames\n",
    "# traj = {}\n",
    "# next_id = 0\n",
    "# for pos in positions_t:\n",
    "#     traj[next_id] = [(0, *pos)]\n",
    "#     next_id += 1\n",
    "# Dictionary with ID's as key, frame number, then position.\n",
    "\n",
    "# Second frame\n",
    "displacement_1 = (2 * np.random.rand(n_particles, 2) - 1) * 5 # Small random displacement for testing purposes. Allow for displacements in x, y, z <= 0 by shifting interval to [1, 1)]\n",
    "positions_t1 = positions_t + displacement_1\n",
    "\n",
    "# Third frame\n",
    "displacement_2 = (2 * np.random.rand(n_particles, 2) - 1) * 5\n",
    "positions_t2 = positions_t1 + displacement_2\n",
    "\n",
    "positions_list = [positions_t, positions_t1, positions_t2]\n",
    "\n",
    "# Note here that we use random displacements (similar to that of Brownian motion) but we can restrict movements linearly as well by changing how we define our displacement. "
   ]
  },
  {
   "cell_type": "markdown",
   "id": "9f3b834a",
   "metadata": {},
   "source": [
    "### Perform Matching via nearest-neighbors"
   ]
  },
  {
   "cell_type": "code",
   "execution_count": null,
   "id": "2ba5f4c2",
   "metadata": {},
   "outputs": [],
   "source": []
  },
  {
   "cell_type": "code",
   "execution_count": 38,
   "id": "3c6e99b5",
   "metadata": {},
   "outputs": [
    {
     "name": "stdout",
     "output_type": "stream",
     "text": [
      "[[ 3.52717282 63.62280524 69.12491146]\n",
      " [69.45540826  2.84461451 38.43161265]\n",
      " [71.61714809 35.64159132  3.88421952]]\n",
      "[0 1 2]\n"
     ]
    }
   ],
   "source": [
    "# Compute distance matrix for a simple case of just the first two frames\n",
    "dist = distance_matrix(positions_t, positions_t1)\n",
    "matches = np.argmin(dist, axis=1)\n",
    "\n",
    "print(dist) \n",
    "print(matches)"
   ]
  },
  {
   "cell_type": "markdown",
   "id": "e54dbecb",
   "metadata": {},
   "source": [
    "### Visualization"
   ]
  },
  {
   "cell_type": "code",
   "execution_count": null,
   "id": "e6b5bd69",
   "metadata": {},
   "outputs": [
    {
     "name": "stdout",
     "output_type": "stream",
     "text": [
      "j: 0 and k: 0\n",
      "j: 1 and k: 1\n",
      "j: 2 and k: 2\n",
      "j: 0 and k: 0\n",
      "j: 1 and k: 1\n",
      "j: 2 and k: 2\n"
     ]
    },
    {
     "data": {
      "image/png": "[encoded data removed]",
      "text/plain": [
       "<Figure size 640x480 with 1 Axes>"
      ]
     },
     "metadata": {},
     "output_type": "display_data"
    }
   ],
   "source": [
    "# Visualization\n",
    "plt.scatter(*positions_t.T, label = \"Frame 0\")\n",
    "plt.scatter(*positions_t1.T, label = \"Frame 1\")\n",
    "plt.scatter(*positions_t2.T, label = \"Frame 2\")\n",
    "\n",
    "\n",
    "# Draw trajectories\n",
    "\n",
    "# Example of a simple case (the inner loop). Draws a line between the nearest neighbors identified by distance_matrix and np.argmin. \n",
    "# for i, j in enumerate(matches):\n",
    "#     plt.plot([positions_t[i,0], positions_t1[j,0]], \n",
    "#              [positions_t[i,1], positions_t1[j,1]], \n",
    "#              'k--', linewidth=1)\n",
    "\n",
    "for i in range(len(positions_list) - 1):\n",
    "    dist = distance_matrix(positions_list[i], positions_list[i+1])\n",
    "    matches = np.argmin(dist, axis = 1)\n",
    "    for j, k in enumerate(matches):\n",
    "        print(\"j: \" + str(j) + \" and k: \" + str(k))\n",
    "        plt.plot([positions_list[i][j,0], positions_list[i+1][k,0]],\n",
    "                 [positions_list[i][j,1], positions_list[i+1][k,1]],\n",
    "                 'k--', linewidth = 1)\n",
    "        \n",
    "\n",
    "plt.legend()\n",
    "plt.title(\"Nearest-Neighbor Matching Between Frames\")\n",
    "plt.xlabel(\"X\")\n",
    "plt.ylabel(\"Y\")\n",
    "plt.grid(True)\n",
    "plt.axes\n",
    "plt.show()\n",
    "\n"
   ]
  },
  {
   "cell_type": "code",
   "execution_count": null,
   "id": "4c39fd9b",
   "metadata": {},
   "outputs": [],
   "source": [
    "# Change index position of particles\n",
    "# Make 3D\n",
    "\n",
    "\n",
    "# "
   ]
  }
 ],
 "metadata": {
  "kernelspec": {
   "display_name": "base",
   "language": "python",
   "name": "python3"
  },
  "language_info": {
   "codemirror_mode": {
    "name": "ipython",
    "version": 3
   },
   "file_extension": ".py",
   "mimetype": "text/x-python",
   "name": "python",
   "nbconvert_exporter": "python",
   "pygments_lexer": "ipython3",
   "version": "3.11.5"
  }
 },
 "nbformat": 4,
 "nbformat_minor": 5
}
